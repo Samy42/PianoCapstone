{
 "cells": [
  {
   "cell_type": "code",
   "execution_count": 1,
   "metadata": {
    "collapsed": true
   },
   "outputs": [],
   "source": [
    "import pandas\n",
    "from glob import glob"
   ]
  },
  {
   "cell_type": "code",
   "execution_count": 2,
   "metadata": {
    "collapsed": false
   },
   "outputs": [],
   "source": [
    "def extractNotes(file):\n",
    "    df = pandas.read_csv(files[file], header = None , names=['Onset (Beats)','Duration (Beats)','MIDI Channel','MIDI Pitch','Velocity','Onset (Sec)','Duration (sec)'])\n",
    "    \n",
    "    \n",
    "    notes = df['MIDI Pitch'].tolist()\n",
    "    beats = df['Duration (Beats)'].tolist()\n",
    "    roundedBeats = []\n",
    "    \n",
    "    if file > 0:\n",
    "        for i in range(len(beats)):\n",
    "            roundedBeats.append(min(enumerate(set(correctNotes[1])), key=lambda x: abs(x[1]-beats[i]))[1])\n",
    "    else:\n",
    "        roundedBeats = beats.copy()\n",
    "    \n",
    "    return [notes, roundedBeats]"
   ]
  },
  {
   "cell_type": "code",
   "execution_count": 3,
   "metadata": {
    "collapsed": false
   },
   "outputs": [],
   "source": [
    "def roundBeats(beats):\n",
    "    roundedBeats = []\n",
    "    \n",
    "    if type(beats) is list:\n",
    "        for i in range(len(beats)):\n",
    "            roundedBeats.append(min(enumerate(set(correctNotes[1])), key=lambda x: abs(x[1]-beats[i]))[1])\n",
    "    else:\n",
    "        roundedBeats = (min(enumerate(set(correctNotes[1])), key=lambda x: abs(x[1]-beats))[1])\n",
    "        \n",
    "    return roundedBeats"
   ]
  },
  {
   "cell_type": "code",
   "execution_count": 4,
   "metadata": {
    "collapsed": false
   },
   "outputs": [],
   "source": [
    "def checkPiece(correct, notes):\n",
    "    \n",
    "\n",
    "    iterlist = correct.copy()\n",
    "\n",
    "    same = 0\n",
    "    for i in iterlist:\n",
    "        if i in notes:\n",
    "            notes.remove(i)\n",
    "            correct.remove(i)\n",
    "            same = same + 1\n",
    "\n",
    "\n",
    "    return [[same, len(notes), len(correct)],notes,correct]"
   ]
  },
  {
   "cell_type": "code",
   "execution_count": 5,
   "metadata": {
    "collapsed": false
   },
   "outputs": [],
   "source": [
    "def mushNotes(notes):\n",
    "    new = []\n",
    "    for i in range(len(notes[0])):\n",
    "        new.append([notes[0][i],notes[1][i]])\n",
    "        \n",
    "    return new"
   ]
  },
  {
   "cell_type": "code",
   "execution_count": 6,
   "metadata": {
    "collapsed": false
   },
   "outputs": [],
   "source": [
    "def scoreSubject(subject):\n",
    "    correct = mushNotes(correctNotes)\n",
    "    notes = mushNotes(extractNotes(subject))\n",
    "\n",
    "    output = []\n",
    "    output.append(checkPiece(correct,notes))\n",
    "\n",
    "    beatCounts = set(correctNotes[1])\n",
    "\n",
    "    for i in range(len(beatCounts)):\n",
    "\n",
    "        if output[i][0][1] == 0:\n",
    "            break\n",
    "\n",
    "        for n in range(len(output[i][1])):\n",
    "            output[i][1][n][1]= roundBeats(output[i][1][n][1] + (min(beatCounts)*pow(2,i)))\n",
    "\n",
    "        output.append(checkPiece(output[i][1],output[i][2]))\n",
    "\n",
    "\n",
    "\n",
    "    #calculate overall score, taking off half credit recursively for every adjustment to get all notes\n",
    "    score = 0\n",
    "\n",
    "    for i in range(len(output)):\n",
    "        score = score + (output[i][0][0]*pow(2,(-1*i)))\n",
    "    \n",
    "    \n",
    "    return score"
   ]
  },
  {
   "cell_type": "code",
   "execution_count": 7,
   "metadata": {
    "collapsed": true
   },
   "outputs": [],
   "source": [
    "#Amazing Grace\n",
    "\n",
    "files = glob('./MIDIfiles/AmazingGrace/csv/*.csv')\n",
    "\n",
    "correctNotes = extractNotes(0)\n",
    "\n",
    "output = []\n",
    "for f in range(len(files)-1):\n",
    "    subject = files[f+1][-18:-16]\n",
    "    output.append([subject, scoreSubject(f+1)])\n",
    "\n",
    "with open('amazingGrace.csv', 'w+') as f:\n",
    "    for line in output:\n",
    "        f.write(str(line[0])+', '+str(line[1])+'\\n')"
   ]
  },
  {
   "cell_type": "code",
   "execution_count": null,
   "metadata": {
    "collapsed": true
   },
   "outputs": [],
   "source": [
    "#Clavier\n",
    "\n",
    "files = glob('./MIDIfiles/Clavier/csv/*.csv')\n",
    "\n",
    "correctNotes = extractNotes(0)\n",
    "\n",
    "output = []\n",
    "for f in range(len(files)-1):\n",
    "    subject = files[f+1][-13:-11]\n",
    "    output.append([subject, scoreSubject(f+1)])\n",
    "\n",
    "with open('clavier.csv', 'w+') as f:\n",
    "    for line in output:\n",
    "        f.write(str(line[0])+', '+str(line[1])+'\\n')"
   ]
  },
  {
   "cell_type": "code",
   "execution_count": null,
   "metadata": {
    "collapsed": true
   },
   "outputs": [],
   "source": [
    "#Nocturne\n",
    "\n",
    "files = glob('./MIDIfiles/Nocturne/csv/*.csv')\n",
    "\n",
    "correctNotes = extractNotes(0)\n",
    "\n",
    "output = []\n",
    "for f in range(len(files)-1):\n",
    "    subject = files[f+1][-14:-12]\n",
    "    output.append([subject, scoreSubject(f+1)])\n",
    "\n",
    "with open('nocturne.csv', 'w+') as f:\n",
    "    for line in output:\n",
    "        f.write(str(line[0])+', '+str(line[1])+'\\n')"
   ]
  },
  {
   "cell_type": "code",
   "execution_count": null,
   "metadata": {
    "collapsed": true
   },
   "outputs": [],
   "source": [
    "#Opus\n",
    "\n",
    "files = glob('./MIDIfiles/Opus/csv/*.csv')\n",
    "\n",
    "correctNotes = extractNotes(0)\n",
    "\n",
    "output = []\n",
    "for f in range(len(files)-1):\n",
    "    subject = files[f+1][-10:-8]\n",
    "    output.append([subject, scoreSubject(f+1)])\n",
    "\n",
    "with open('opus.csv', 'w+') as f:\n",
    "    for line in output:\n",
    "        f.write(str(line[0])+', '+str(line[1])+'\\n')"
   ]
  },
  {
   "cell_type": "code",
   "execution_count": null,
   "metadata": {
    "collapsed": true
   },
   "outputs": [],
   "source": [
    "#Sonata\n",
    "\n",
    "files = glob('./MIDIfiles/Sonata/csv/*.csv')\n",
    "\n",
    "correctNotes = extractNotes(0)\n",
    "\n",
    "output = []\n",
    "for f in range(len(files)-1):\n",
    "    subject = files[f+1][-12:-10]\n",
    "    output.append([subject, scoreSubject(f+1)])\n",
    "\n",
    "with open('sonata.csv', 'w+') as f:\n",
    "    for line in output:\n",
    "        f.write(str(line[0])+', '+str(line[1])+'\\n')"
   ]
  },
  {
   "cell_type": "code",
   "execution_count": null,
   "metadata": {
    "collapsed": true
   },
   "outputs": [],
   "source": [
    "#Traumerei\n",
    "\n",
    "files = glob('./MIDIfiles/Traumerei/csv/*.csv')\n",
    "\n",
    "correctNotes = extractNotes(0)\n",
    "\n",
    "output = []\n",
    "for f in range(len(files)-1):\n",
    "    subject = files[f+1][-14:-12]\n",
    "    output.append([subject, scoreSubject(f+1)])\n",
    "\n",
    "with open('traumerei.csv', 'w+') as f:\n",
    "    for line in output:\n",
    "        f.write(str(line[0])+', '+str(line[1])+'\\n')"
   ]
  }
 ],
 "metadata": {
  "anaconda-cloud": {},
  "kernelspec": {
   "display_name": "Python [conda root]",
   "language": "python",
   "name": "conda-root-py"
  },
  "language_info": {
   "codemirror_mode": {
    "name": "ipython",
    "version": 3
   },
   "file_extension": ".py",
   "mimetype": "text/x-python",
   "name": "python",
   "nbconvert_exporter": "python",
   "pygments_lexer": "ipython3",
   "version": "3.5.2"
  }
 },
 "nbformat": 4,
 "nbformat_minor": 1
}
