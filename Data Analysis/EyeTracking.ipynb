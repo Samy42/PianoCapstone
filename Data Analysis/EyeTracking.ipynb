{
 "cells": [
  {
   "cell_type": "code",
   "execution_count": 1,
   "metadata": {
    "collapsed": true
   },
   "outputs": [],
   "source": [
    "from glob import glob\n",
    "import csv\n",
    "import re\n",
    "import numpy as np"
   ]
  },
  {
   "cell_type": "code",
   "execution_count": 2,
   "metadata": {
    "collapsed": false
   },
   "outputs": [],
   "source": [
    "def readOgamaTsv(i):\n",
    "    data = []\n",
    "    with open(files[i]) as f:\n",
    "        for line in f:\n",
    "            if line[0] is not '#':\n",
    "                temp = line.strip().split('\\t')\n",
    "                data.append(temp)\n",
    "    delete = []\n",
    "    \n",
    "    if files[i][-13:] == 'Fixations.txt':\n",
    "        todelete = ['ID','SubjectName','TrialSequence',\n",
    "                    'PosX','PosY','Trial Name','Trial Category',\n",
    "                    'SlideNr','AOI Group']\n",
    "        for j in range(len(data[0])):\n",
    "            if data[0][j] in todelete:\n",
    "                delete.append(j)\n",
    "        \n",
    "\n",
    "    if files[i][-12:] == 'Saccades.txt':\n",
    "        delete = [0,2,4,8,9,10,11,12,13,14,15,16,18]\n",
    "        todelete = ['ID','SubjectName','TrialSequence','CountInTrial',\n",
    "                    'StartTime','Validity','SubjectCategory','Age','Sex',\n",
    "                    'Handedness','Comments','Trial Name', 'Trial Category',\n",
    "                    'SlideNr','Saccade Target AOI Group']\n",
    "        for j in range(len(data[0])):\n",
    "            if data[0][j] in todelete:\n",
    "                delete.append(j)\n",
    "    \n",
    "    for r in range(len(data)):\n",
    "                data[r] = np.delete(data[r],delete)\n",
    "                data[r]= data[r].tolist()\n",
    "            \n",
    "    return data"
   ]
  },
  {
   "cell_type": "code",
   "execution_count": 3,
   "metadata": {
    "collapsed": true
   },
   "outputs": [],
   "source": [
    "def flipRowsCols(data):\n",
    "    flipped = []\n",
    "    \n",
    "    for i in range(len(data[0])):\n",
    "        flipped.append([data[v][i] for v in range(len(data))])\n",
    "        \n",
    "        \n",
    "    return flipped"
   ]
  },
  {
   "cell_type": "code",
   "execution_count": 4,
   "metadata": {
    "collapsed": true
   },
   "outputs": [],
   "source": [
    "def splitBySong(data,headers):\n",
    "    \n",
    "    \n",
    "    slides = []\n",
    "    for i in range(6):\n",
    "        temp = []\n",
    "        for r in range(len(data[0])):\n",
    "            if data[headers.index('TrialID')][r] == str(i):\n",
    "                temp.append(r)\n",
    "        slides.append(temp)\n",
    "        \n",
    "    split = []\n",
    "    for s in range(6):\n",
    "        if len(slides[s]) == 0:\n",
    "            split.append([])\n",
    "            continue\n",
    "        temp = []\n",
    "        for c in range(len(data)):\n",
    "            temp.append(data[c][min(slides[s]):max(slides[s])+1])\n",
    "        split.append(temp)\n",
    "        \n",
    "    return split"
   ]
  },
  {
   "cell_type": "code",
   "execution_count": 5,
   "metadata": {
    "collapsed": false
   },
   "outputs": [],
   "source": [
    "def findGreenDot( data ):\n",
    "    bestMaxAvg = 0\n",
    "    bestEndIndex = 0\n",
    "    \n",
    "    if data.count('GreenDot'):\n",
    "    \n",
    "        for i in range(int(len(data)*.8)):\n",
    "\n",
    "            zone = int(len(data)*.8)-i\n",
    "\n",
    "\n",
    "            currentMaxAvg = 0\n",
    "            currentEndIndex = 0\n",
    "\n",
    "            for z in range(len(data)-zone-5):\n",
    "\n",
    "                if (z+zone) > int(len(data)*0.8):\n",
    "                    continue\n",
    "\n",
    "                currentAvg = (data[z:z+zone].count('GreenDot'))/zone\n",
    "\n",
    "                if currentAvg >= currentMaxAvg:\n",
    "                    currentMaxAvg = currentAvg\n",
    "                    currentEndIndex = z + zone\n",
    "            if currentMaxAvg > bestMaxAvg:\n",
    "                bestMaxAvg = currentMaxAvg\n",
    "                bestEndIndex = currentEndIndex\n",
    "\n",
    "    \n",
    "    return bestEndIndex"
   ]
  },
  {
   "cell_type": "code",
   "execution_count": 6,
   "metadata": {
    "collapsed": false
   },
   "outputs": [],
   "source": [
    "def removeReading(data):\n",
    "    for s in range(len(data)):\n",
    "        if len(data[s]):\n",
    "            for c in range(len(data[0])):\n",
    "                data[s][c] = np.delete(data[s][c],range(findGreenDot(data[s][-2])))\n",
    "                data[s][c]= data[s][c].tolist()\n",
    "    return data"
   ]
  },
  {
   "cell_type": "code",
   "execution_count": 7,
   "metadata": {
    "collapsed": false
   },
   "outputs": [],
   "source": [
    "files = glob(\"./EyeTracking/*.txt\")"
   ]
  },
  {
   "cell_type": "code",
   "execution_count": 8,
   "metadata": {
    "collapsed": false
   },
   "outputs": [],
   "source": [
    "exceloutput = []\n",
    "exceloutput.append(['Subject ID', 'Song ID', \"Playing Time\", \n",
    "                    'Fixation Count','Fixation Duration','Saccade Length',\n",
    "                    'Saccade Duration','Path Velocity']) \n",
    "row = 0\n",
    "for person in range(int(len(files)/2)): #starting with one person\n",
    "    subjectID = '0' + str(person+1)\n",
    "    #Fixation data preprocessing\n",
    "    \n",
    "    Fdata = readOgamaTsv(0+(person*2))\n",
    "    Fheaders = Fdata[0]\n",
    "    Fdata = flipRowsCols(Fdata)\n",
    "    Fdata = splitBySong(Fdata,Fheaders)\n",
    "    Fdata = removeReading(Fdata)\n",
    "    \n",
    "    #Saccade data preprocessing\n",
    "    \n",
    "    Sdata = readOgamaTsv(1+(person*2))\n",
    "    Sheaders = Sdata[0]\n",
    "    Sdata = flipRowsCols(Sdata)\n",
    "    Sdata = splitBySong(Sdata,Sheaders)\n",
    "    Sdata = removeReading(Sdata)\n",
    "\n",
    "    for s in range(6):\n",
    "        \n",
    "        if not len(Fdata[s]): #don't write blank rows\n",
    "            continue\n",
    "            \n",
    "        exceloutput.append([0]*8)\n",
    "        row = row + 1\n",
    "\n",
    "\n",
    "        if len(Fdata[s]) and len(Fdata[s][0]) and len(Fdata[s][0][0]):\n",
    "\n",
    "            playingtime = int(Fdata[s][Fheaders.index('StartTime')][-1])- int(Fdata[s][Fheaders.index('StartTime')][0])\n",
    "\n",
    "            fixationcount = len(Fdata[s][0])\n",
    "\n",
    "            fixationduration = np.average([int(x) for x in Fdata[s][Fheaders.index('Length')]])\n",
    "\n",
    "            exceloutput[row][exceloutput[0].index('Subject ID')] = subjectID\n",
    "            exceloutput[row][exceloutput[0].index('Song ID')] = s\n",
    "            exceloutput[row][exceloutput[0].index('Playing Time')] = playingtime\n",
    "            exceloutput[row][exceloutput[0].index('Fixation Count')] = fixationcount\n",
    "            exceloutput[row][exceloutput[0].index('Fixation Duration')] = fixationduration\n",
    "\n",
    "        if len(Sdata[s]) and len(Sdata[s][0]) and len(Sdata[s][0][0]):\n",
    "\n",
    "            saccadelength = np.average([float(x) for x in Sdata[s][Sheaders.index('Distance')]])\n",
    "            saccadeduration = np.average([float(x) for x in Sdata[s][Sheaders.index('Duration')]])\n",
    "            pathvelocity = np.average([float(x) for x in Sdata[s][Sheaders.index('Velocity')]])\n",
    "            \n",
    "            exceloutput[row][exceloutput[0].index('Saccade Length')] = saccadelength\n",
    "            exceloutput[row][exceloutput[0].index('Saccade Duration')] = saccadeduration\n",
    "            exceloutput[row][exceloutput[0].index('Path Velocity')] = pathvelocity\n"
   ]
  },
  {
   "cell_type": "code",
   "execution_count": 9,
   "metadata": {
    "collapsed": false
   },
   "outputs": [],
   "source": [
    "with open('eyeTrackingData.csv','w+') as f:\n",
    "    for row in range(len(exceloutput)):\n",
    "        for col in range(len(exceloutput[0])):\n",
    "            f.write(str(exceloutput[row][col])+',')\n",
    "        f.write('\\n')"
   ]
  }
 ],
 "metadata": {
  "anaconda-cloud": {},
  "kernelspec": {
   "display_name": "Python [conda root]",
   "language": "python",
   "name": "conda-root-py"
  },
  "language_info": {
   "codemirror_mode": {
    "name": "ipython",
    "version": 3
   },
   "file_extension": ".py",
   "mimetype": "text/x-python",
   "name": "python",
   "nbconvert_exporter": "python",
   "pygments_lexer": "ipython3",
   "version": "3.5.2"
  }
 },
 "nbformat": 4,
 "nbformat_minor": 1
}
