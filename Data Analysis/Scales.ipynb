{
 "cells": [
  {
   "cell_type": "code",
   "execution_count": 2,
   "metadata": {
    "collapsed": true
   },
   "outputs": [],
   "source": [
    "#import required libraries\n",
    "import pandas\n",
    "from glob import glob\n",
    "\n",
    "#generate list of files to analyze\n",
    "files = glob('./MIDIfiles/Scales/csv/*.csv')\n",
    "\n",
    "octave = 12 #each octave consists of 12 keys, including the sharp keys\n",
    "\n",
    "#This dictionary contains the MIDI key number of each note in the middle octave on the keyboard\n",
    "noteNum = {'C': 60, 'C#':61, 'D':62,'D#':63,'E':64,'F':65,'F#':66,'G':67,'G#':68,'A':69,'A#':70,'B':71}"
   ]
  },
  {
   "cell_type": "code",
   "execution_count": 5,
   "metadata": {
    "collapsed": true
   },
   "outputs": [],
   "source": [
    "#This function processes each file and generates a list of notes played\n",
    "def extractNotes(file):\n",
    "    df = pandas.read_csv(files[file], header = None , names=['Onset (Beats)','Duration (Beats)','MIDI Channel',\n",
    "                                                             'MIDI Pitch','Velocity','Onset (Sec)','Duration (sec)'])\n",
    "    return df['MIDI Pitch'].tolist()"
   ]
  },
  {
   "cell_type": "code",
   "execution_count": 6,
   "metadata": {
    "collapsed": false
   },
   "outputs": [],
   "source": [
    "#read in the correct scales and arpeggio notes\n",
    "correctNotes = pandas.read_csv('correctScales.csv')"
   ]
  },
  {
   "cell_type": "code",
   "execution_count": 7,
   "metadata": {
    "collapsed": true
   },
   "outputs": [],
   "source": [
    "#identify and check a scale \n",
    "def checkScale(notes, letter):\n",
    "    score = 0\n",
    "    \n",
    "    deleteOctave(notes, letter)\n",
    "    \n",
    "    for n in range(len(notes)-14):\n",
    "        if (notes[n] == noteNum[letter]) and (notes[n+7] ==noteNum[letter]+octave) and (notes[n+14] == noteNum[letter]):\n",
    "            for p in range(15):\n",
    "                if notes[n + p] != correctNotes[letter + ' Major Scale'][p]:\n",
    "                    score = score + 1\n",
    "                return [letter, score]\n",
    "            \n",
    "    return [letter, 15]"
   ]
  },
  {
   "cell_type": "code",
   "execution_count": 8,
   "metadata": {
    "collapsed": true
   },
   "outputs": [],
   "source": [
    "def checkArpeggio(notes, letter):\n",
    "    score = 0\n",
    "    \n",
    "    for n in range(len(notes)-14):\n",
    "        if (notes[n] == noteNum[letter]) and (notes[n+3] ==noteNum[letter]+octave) and (notes[n+6] == noteNum[letter]):\n",
    "            for p in range(7):\n",
    "                if notes[n + p] != correctNotes[letter + ' Major Arpeggio'][p]:\n",
    "                    score = score + 1\n",
    "                return score\n",
    "            \n",
    "    return 7"
   ]
  },
  {
   "cell_type": "code",
   "execution_count": 9,
   "metadata": {
    "collapsed": false
   },
   "outputs": [],
   "source": [
    "# 1 octave: n1-6-n2-6-n1\n",
    "\n",
    "#2 octaves: n1 - 6 - n2 - 6 - n3 - 6 - n2 - 6 - n1 \n",
    "#          = n1 - 6 - n2 - 13 - n2 - 6 - n1\n",
    "\n",
    "#3 octaves: n1-6-n2-6-n3-6-n4-6-n3-6-n2-6-n1\n",
    "#         = n1-6-n2-6-n3-13-n3-6-n2-6-n1\n",
    "#         = n1-6-n2-6-15-6-n2-6-n1\n",
    "#         = n1-6-n2-27-n2-n1\n",
    "#each octive = ney num + 12*octaves\n",
    "\n",
    "def deleteOctave(notes, letter):\n",
    "    for n in range(len(notes)-14):\n",
    "        if (notes[n] == noteNum[letter]+octave) and (notes[n+7] ==noteNum[letter]+(octave*2)) and (notes[n+14] == noteNum[letter]+octave):\n",
    "            for p in range(14):\n",
    "                del notes[n + p]\n",
    "                break\n",
    "    for n in range(len(notes)-14):\n",
    "        if (notes[n] == noteNum[letter]+(octave*2)) and (notes[n+7] ==noteNum[letter]+(octave*3)) and (notes[n+14] == noteNum[letter]+(octave*2)):\n",
    "            for p in range(14):\n",
    "                del notes[n + p]\n",
    "                break"
   ]
  },
  {
   "cell_type": "code",
   "execution_count": 10,
   "metadata": {
    "collapsed": true
   },
   "outputs": [],
   "source": [
    "def getScore(notes):\n",
    "    score = []\n",
    "    for key in noteNum:\n",
    "        score.append(checkScale(notes,key))\n",
    "    return score"
   ]
  },
  {
   "cell_type": "code",
   "execution_count": 11,
   "metadata": {
    "collapsed": false
   },
   "outputs": [],
   "source": [
    "scoreOutput = []\n",
    "arpeggioOutput=[]\n",
    "\n",
    "for f in range(len(files)):\n",
    "    #get notes\n",
    "    notes = extractNotes(f)\n",
    "    \n",
    "    subject = files[f][-12:-10]\n",
    "    \n",
    "    #score scales\n",
    "    score = getScore(notes)\n",
    "    errors = sum(s[1] for s in score)\n",
    "    scoreOutput.append([subject,errors])\n",
    "    \n",
    "    #score arpeggios\n",
    "    score = 0\n",
    "    for a in ['A','E','B','C','D','G']:\n",
    "        score = score + checkArpeggio(notes,a)\n",
    "    arpeggioOutput.append([subject,score])"
   ]
  },
  {
   "cell_type": "code",
   "execution_count": 12,
   "metadata": {
    "collapsed": false
   },
   "outputs": [],
   "source": [
    "with open('scales.csv', 'w+') as f:\n",
    "    for line in scoreOutput:\n",
    "        f.write(str(line[0])+', '+str(line[1])+'\\n')"
   ]
  },
  {
   "cell_type": "code",
   "execution_count": 13,
   "metadata": {
    "collapsed": true
   },
   "outputs": [],
   "source": [
    "with open('arpeggio.csv', 'w+') as f:\n",
    "    for line in arpeggioOutput:\n",
    "        f.write(str(line[0])+', '+str(line[1])+'\\n')"
   ]
  }
 ],
 "metadata": {
  "anaconda-cloud": {},
  "kernelspec": {
   "display_name": "Python [conda root]",
   "language": "python",
   "name": "conda-root-py"
  },
  "language_info": {
   "codemirror_mode": {
    "name": "ipython",
    "version": 3
   },
   "file_extension": ".py",
   "mimetype": "text/x-python",
   "name": "python",
   "nbconvert_exporter": "python",
   "pygments_lexer": "ipython3",
   "version": "3.5.2"
  }
 },
 "nbformat": 4,
 "nbformat_minor": 1
}
